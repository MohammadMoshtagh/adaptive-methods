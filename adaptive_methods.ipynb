{
 "cells": [
  {
   "cell_type": "code",
   "execution_count": 1,
   "metadata": {},
   "outputs": [],
   "source": [
    "import numpy as np\n",
    "import matplotlib.pyplot as plt\n",
    "import torch\n",
    "from torch.optim import Optimizer\n",
    "\n",
    "from sgd import SGD\n",
    "from dog import DoG, LDoG\n",
    "from dadapt import DAdaptSGD, DAdaptDual\n",
    "from averager import PolynomialDecayAverager\n",
    "\n",
    "from abc import ABC, abstractmethod\n",
    "from tqdm.notebook import tqdm\n",
    "import time"
   ]
  },
  {
   "cell_type": "code",
   "execution_count": 2,
   "metadata": {},
   "outputs": [],
   "source": [
    "def add_gaussian_noise(tensor: torch.Tensor, mean: float = 0, std: float = 1):\n",
    "    return tensor + (torch.randn_like(tensor) + mean) * std"
   ]
  },
  {
   "cell_type": "code",
   "execution_count": 3,
   "metadata": {},
   "outputs": [],
   "source": [
    "class TorchModel:\n",
    "    def __init__(self, n_features: int, max_iter: int = 1000):\n",
    "        self.N = n_features\n",
    "        self.optimum = float('inf')\n",
    "        self.x = None\n",
    "        self.optimizer = None\n",
    "        self.scheduler = None\n",
    "        self.optimal_x = None\n",
    "\n",
    "    def set_optimizer(self, optimizer: Optimizer):\n",
    "        self.optimizer = optimizer\n",
    "\n",
    "    def set_scheduler(self, scheduler: PolynomialDecayAverager):\n",
    "        self.scheduler = scheduler\n",
    "\n",
    "    @abstractmethod\n",
    "    def loss(self, P: torch.Tensor, q: torch.Tensor):\n",
    "        raise NotImplementedError(\"must override loss\")\n",
    "\n",
    "    def optimize(self, P: torch.Tensor, q: torch.Tensor, optimal_point,\n",
    "                 max_iter: int = 10000, log_per: int = 1000, is_noisy: bool = True):\n",
    "        self.P = P\n",
    "        self.q = q\n",
    "        point_distance_list = []\n",
    "        value_distance_list = []\n",
    "        optimal_value = self.compute_value(optimal_point)\n",
    "\n",
    "        for _ in tqdm(range(max_iter)):\n",
    "            self.optimizer.zero_grad()\n",
    "            loss = self.loss(P, q)\n",
    "            loss.backward()\n",
    "            if is_noisy:\n",
    "                self.x.grad += add_gaussian_noise(self.x.grad, std=0.01)\n",
    "            self.optimizer.step()\n",
    "            if self.scheduler is not None:\n",
    "                self.scheduler.step()\n",
    "\n",
    "            current_value = self.compute_value(self.x.detach().numpy())\n",
    "            point_distance = np.linalg.norm(self.x.detach().numpy() - optimal_point)\n",
    "            value_distance = current_value - optimal_value\n",
    "            point_distance_list.append(point_distance)\n",
    "            value_distance_list.append(value_distance)\n",
    "            if _ % log_per == 0:\n",
    "                tqdm.write(f\"Iter: {_}, \\tPoint Distance (d_i) from Optimal: {'%.6f' % point_distance}, \\tValue Distance from Optimal: \\t{'%.6f' % value_distance}\", end='\\r')\n",
    "\n",
    "            if current_value < self.optimum:\n",
    "                self.optimal_x = self.x\n",
    "                self.optimum = current_value\n",
    "\n",
    "        return point_distance_list, value_distance_list\n",
    "\n",
    "    @abstractmethod\n",
    "    def optimal_value(self):\n",
    "        raise NotImplementedError(\"must override optimal_value\")\n",
    "\n",
    "    @abstractmethod\n",
    "    def compute_value(self):\n",
    "        raise NotImplementedError(\"must override compute_value\")\n",
    "\n",
    "    def params(self):\n",
    "        return [self.x]"
   ]
  },
  {
   "cell_type": "code",
   "execution_count": 4,
   "metadata": {},
   "outputs": [],
   "source": [
    "class TorchQuadModel(TorchModel):\n",
    "    def __init__(self, n_features: int, **kwargs):\n",
    "        super().__init__(n_features, **kwargs)\n",
    "        self.x = torch.randn(self.N, requires_grad=True)\n",
    "        # self.x = torch.from_numpy(np.array([10, 10]).astype('float32'))\n",
    "        self.x.requires_grad = True\n",
    "\n",
    "    def loss(self, P: torch.Tensor, q: torch.Tensor):\n",
    "        x1 = torch.matmul(self.x, P) # x1 = x^T P\n",
    "        z = torch.matmul(x1, self.x) # z = x1 x = x^T P x\n",
    "\n",
    "        return z - torch.matmul(q, self.x)\n",
    "\n",
    "    def optimal_value(self):\n",
    "        return self.optimum\n",
    "\n",
    "    def compute_value(self, point: np.ndarray):\n",
    "        P = self.P.detach().numpy()\n",
    "        q = self.q.detach().numpy()\n",
    "        return point.T @ P @ point - q @ point"
   ]
  },
  {
   "cell_type": "code",
   "execution_count": 5,
   "metadata": {},
   "outputs": [],
   "source": [
    "N = 20 # Matrix Size\n",
    "A = np.random.rand(N, N)\n",
    "P = torch.from_numpy((A.T @ A).astype('float32'))\n",
    "q = torch.from_numpy(np.random.rand(N).astype(dtype='float32'))"
   ]
  },
  {
   "cell_type": "code",
   "execution_count": 6,
   "metadata": {},
   "outputs": [
    {
     "data": {
      "text/plain": [
       "-0.769516521637732"
      ]
     },
     "execution_count": 6,
     "metadata": {},
     "output_type": "execute_result"
    }
   ],
   "source": [
    "from solver import QuadraticSolver\n",
    "\n",
    "qs = QuadraticSolver(N, P.detach().numpy(), q.detach().numpy())\n",
    "qs.optimal_point()\n",
    "qs.optimal_value()"
   ]
  },
  {
   "cell_type": "code",
   "execution_count": 7,
   "metadata": {},
   "outputs": [
    {
     "data": {
      "application/vnd.jupyter.widget-view+json": {
       "model_id": "f7825b77b6fa4d9b8613db93b78a15a1",
       "version_major": 2,
       "version_minor": 0
      },
      "text/plain": [
       "  0%|          | 0/100001 [00:00<?, ?it/s]"
      ]
     },
     "metadata": {},
     "output_type": "display_data"
    },
    {
     "name": "stdout",
     "output_type": "stream",
     "text": [
      "Iter: 100000, \tPoint Distance (d_i) from Optimal: 0.000293, \tValue Distance from Optimal: \t-0.000003\r"
     ]
    }
   ],
   "source": [
    "# D-Adaptation Method\n",
    "dd_model = TorchQuadModel(N)\n",
    "dd_optimizer = DAdaptDual(dd_model.params(), lr = 0.1, d0 = 1)\n",
    "\n",
    "dd_model.set_optimizer(dd_optimizer)\n",
    "point_distance_list, value_distance_list = dd_model.optimize(P, q, qs.optimal_point(), 100001, 10000, False)"
   ]
  },
  {
   "cell_type": "code",
   "execution_count": 8,
   "metadata": {},
   "outputs": [
    {
     "data": {
      "text/plain": [
       "-0.76952183"
      ]
     },
     "execution_count": 8,
     "metadata": {},
     "output_type": "execute_result"
    }
   ],
   "source": [
    "dd_model.optimal_value()"
   ]
  },
  {
   "cell_type": "code",
   "execution_count": 302,
   "metadata": {},
   "outputs": [],
   "source": [
    "lr_choices = [10, 1, 0.1, 0.01, 0.001, 0.0001]"
   ]
  },
  {
   "cell_type": "code",
   "execution_count": 16,
   "metadata": {},
   "outputs": [],
   "source": [
    "def quadratic_model_runner(optimizer: Optimizer, model: TorchModel,\n",
    "                           P: torch.Tensor,\n",
    "                           q: torch.Tensor,\n",
    "                           optimal_point: float,\n",
    "                           max_iter: int = 10000,\n",
    "                           log_per_iteration: int = 1000,\n",
    "                           is_noisy: bool = True):\n",
    "    model_name = optimizer.__class__.__name__\n",
    "    print(f\"{model_name} Method\")\n",
    "    model.set_optimizer(optimizer)\n",
    "    point_distance_list, value_distance_list = model.optimize(P, q, optimal_point, max_iter, log_per_iteration, is_noisy)\n",
    "    print()\n",
    "    print()\n",
    "    time.sleep(1)\n",
    "\n",
    "    plt.plot(value_distance_list, label=model_name)\n",
    "    # plt.title(model_name)\n",
    "    # plt.show()"
   ]
  },
  {
   "cell_type": "code",
   "execution_count": 29,
   "metadata": {},
   "outputs": [],
   "source": [
    "# SGD Method\n",
    "sgd_model = TorchQuadModel(N)\n",
    "sgd_optimizer = SGD(sgd_model.params(), lr = 0.0001)\n",
    "\n",
    "# DoG Method\n",
    "dog_model = TorchQuadModel(N)\n",
    "dog_optimizer = DoG(dog_model.params())\n",
    "\n",
    "# D-Adaptation (SGD) Method\n",
    "dadapt_sgd_model = TorchQuadModel(N)\n",
    "dadapt_sgd_optimizer = DAdaptSGD(dadapt_sgd_model.params(), lr = 0.01)\n",
    "\n",
    "# D-Adaptation (Dual Averaging) Method\n",
    "dadapt_dual_model = TorchQuadModel(N)\n",
    "dadapt_dual_optimizer = DAdaptDual(dadapt_dual_model.params())"
   ]
  },
  {
   "cell_type": "code",
   "execution_count": 19,
   "metadata": {},
   "outputs": [
    {
     "name": "stdout",
     "output_type": "stream",
     "text": [
      "SGD Method\n"
     ]
    },
    {
     "data": {
      "application/vnd.jupyter.widget-view+json": {
       "model_id": "632522da96db488fadbb552370674190",
       "version_major": 2,
       "version_minor": 0
      },
      "text/plain": [
       "  0%|          | 0/100001 [00:00<?, ?it/s]"
      ]
     },
     "metadata": {},
     "output_type": "display_data"
    },
    {
     "name": "stdout",
     "output_type": "stream",
     "text": [
      "Iter: 100000, \tPoint Distance (d_i) from Optimal: 0.717882, \tValue Distance from Optimal: \t0.013864\n",
      "\n",
      "DoG Method\n"
     ]
    },
    {
     "data": {
      "application/vnd.jupyter.widget-view+json": {
       "model_id": "9106e2192ad14eee923391cc593474b0",
       "version_major": 2,
       "version_minor": 0
      },
      "text/plain": [
       "  0%|          | 0/100001 [00:00<?, ?it/s]"
      ]
     },
     "metadata": {},
     "output_type": "display_data"
    },
    {
     "name": "stdout",
     "output_type": "stream",
     "text": [
      "Iter: 100000, \tPoint Distance (d_i) from Optimal: 0.001203, \tValue Distance from Optimal: \t-0.000001\n",
      "\n",
      "DAdaptSGD Method\n"
     ]
    },
    {
     "data": {
      "application/vnd.jupyter.widget-view+json": {
       "model_id": "1df905d96a6643cbab666f0ce3ef68b0",
       "version_major": 2,
       "version_minor": 0
      },
      "text/plain": [
       "  0%|          | 0/100001 [00:00<?, ?it/s]"
      ]
     },
     "metadata": {},
     "output_type": "display_data"
    },
    {
     "name": "stdout",
     "output_type": "stream",
     "text": [
      "Iter: 100000, \tPoint Distance (d_i) from Optimal: 0.081950, \tValue Distance from Optimal: \t0.000160\n",
      "\n",
      "DAdaptDual Method\n"
     ]
    },
    {
     "data": {
      "application/vnd.jupyter.widget-view+json": {
       "model_id": "214ecc6137dd486a9d3b65bcfdc5bebb",
       "version_major": 2,
       "version_minor": 0
      },
      "text/plain": [
       "  0%|          | 0/100001 [00:00<?, ?it/s]"
      ]
     },
     "metadata": {},
     "output_type": "display_data"
    },
    {
     "name": "stdout",
     "output_type": "stream",
     "text": [
      "Iter: 100000, \tPoint Distance (d_i) from Optimal: 0.491864, \tValue Distance from Optimal: \t0.005728\n",
      "\n"
     ]
    },
    {
     "data": {
      "image/png": "[encoded data removed]",
      "text/plain": [
       "<Figure size 640x480 with 1 Axes>"
      ]
     },
     "metadata": {},
     "output_type": "display_data"
    }
   ],
   "source": [
    "iterations = 100001\n",
    "\n",
    "optimizers = [[sgd_optimizer, sgd_model],\n",
    "              [dog_optimizer, dog_model],\n",
    "              [dadapt_sgd_optimizer, dadapt_sgd_model],\n",
    "              [dadapt_dual_optimizer, dadapt_dual_model]]\n",
    "for (optimizer, model) in optimizers:\n",
    "    quadratic_model_runner(optimizer, model, P, q, qs.optimal_point(), max_iter=iterations, log_per_iteration=1000)\n",
    "\n",
    "plt.legend()\n",
    "plt.show()"
   ]
  },
  {
   "cell_type": "code",
   "execution_count": 20,
   "metadata": {},
   "outputs": [
    {
     "name": "stdout",
     "output_type": "stream",
     "text": [
      "Actual optimal point: \t-0.769516521637732\n",
      "DoG optimal point: \t-0.769522488117218\n",
      "SGD optimal point: \t-0.7556535005569458\n",
      "D-Adapt optimal point: \t-0.7693583369255066\n"
     ]
    }
   ],
   "source": [
    "print(f\"Actual optimal point: \\t{qs.optimal_value()}\")\n",
    "print(f\"DoG optimal point: \\t{dog_model.optimal_value()}\")\n",
    "print(f\"SGD optimal point: \\t{sgd_model.optimal_value()}\")\n",
    "print(f\"D-Adapt optimal point: \\t{dadapt_sgd_model.optimal_value()}\")"
   ]
  },
  {
   "cell_type": "code",
   "execution_count": 30,
   "metadata": {},
   "outputs": [
    {
     "name": "stdout",
     "output_type": "stream",
     "text": [
      "SGD Method\n"
     ]
    },
    {
     "data": {
      "application/vnd.jupyter.widget-view+json": {
       "model_id": "5ac071fca4da4e2db96ce3def53a7dc6",
       "version_major": 2,
       "version_minor": 0
      },
      "text/plain": [
       "  0%|          | 0/10001 [00:00<?, ?it/s]"
      ]
     },
     "metadata": {},
     "output_type": "display_data"
    },
    {
     "name": "stdout",
     "output_type": "stream",
     "text": [
      "Iter: 10000, \tPoint Distance (d_i) from Optimal: 2.852841, \tValue Distance from Optimal: \t0.565499\n",
      "\n",
      "DoG Method\n"
     ]
    },
    {
     "data": {
      "application/vnd.jupyter.widget-view+json": {
       "model_id": "4932d5d105d24f65aa5c33dcf8aa9a83",
       "version_major": 2,
       "version_minor": 0
      },
      "text/plain": [
       "  0%|          | 0/10001 [00:00<?, ?it/s]"
      ]
     },
     "metadata": {},
     "output_type": "display_data"
    },
    {
     "name": "stdout",
     "output_type": "stream",
     "text": [
      "Iter: 10000, \tPoint Distance (d_i) from Optimal: 1.467940, \tValue Distance from Optimal: \t0.053279\n",
      "\n",
      "DAdaptSGD Method\n"
     ]
    },
    {
     "data": {
      "application/vnd.jupyter.widget-view+json": {
       "model_id": "a0ea795c66424451a676195e3c8df36b",
       "version_major": 2,
       "version_minor": 0
      },
      "text/plain": [
       "  0%|          | 0/10001 [00:00<?, ?it/s]"
      ]
     },
     "metadata": {},
     "output_type": "display_data"
    },
    {
     "name": "stdout",
     "output_type": "stream",
     "text": [
      "Iter: 10000, \tPoint Distance (d_i) from Optimal: 2.680962, \tValue Distance from Optimal: \t0.195292\n",
      "\n",
      "DAdaptDual Method\n"
     ]
    },
    {
     "data": {
      "application/vnd.jupyter.widget-view+json": {
       "model_id": "2e5d67e30a7c464d88e726e8c0531dbc",
       "version_major": 2,
       "version_minor": 0
      },
      "text/plain": [
       "  0%|          | 0/10001 [00:00<?, ?it/s]"
      ]
     },
     "metadata": {},
     "output_type": "display_data"
    },
    {
     "name": "stdout",
     "output_type": "stream",
     "text": [
      "Iter: 10000, \tPoint Distance (d_i) from Optimal: 0.280312, \tValue Distance from Optimal: \t0.001649\n",
      "\n"
     ]
    },
    {
     "data": {
      "image/png": "[encoded data removed]",
      "text/plain": [
       "<Figure size 640x480 with 1 Axes>"
      ]
     },
     "metadata": {},
     "output_type": "display_data"
    }
   ],
   "source": [
    "iterations = 10001\n",
    "\n",
    "optimizers = [[sgd_optimizer, sgd_model],\n",
    "              [dog_optimizer, dog_model],\n",
    "              [dadapt_sgd_optimizer, dadapt_sgd_model],\n",
    "              [dadapt_dual_optimizer, dadapt_dual_model]]\n",
    "for (optimizer, model) in optimizers:\n",
    "    quadratic_model_runner(optimizer, model, P, q, qs.optimal_point(), max_iter=iterations, log_per_iteration=1000, is_noisy=False)\n",
    "\n",
    "plt.legend()\n",
    "plt.show()"
   ]
  }
 ],
 "metadata": {
  "kernelspec": {
   "display_name": "Python 3",
   "language": "python",
   "name": "python3"
  },
  "language_info": {
   "codemirror_mode": {
    "name": "ipython",
    "version": 3
   },
   "file_extension": ".py",
   "mimetype": "text/x-python",
   "name": "python",
   "nbconvert_exporter": "python",
   "pygments_lexer": "ipython3",
   "version": "3.11.6"
  }
 },
 "nbformat": 4,
 "nbformat_minor": 2
}
