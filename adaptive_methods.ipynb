{
 "cells": [
  {
   "cell_type": "code",
   "execution_count": 1,
   "metadata": {},
   "outputs": [],
   "source": [
    "import numpy as np\n",
    "import matplotlib.pyplot as plt\n",
    "import torch\n",
    "from torch.optim import Optimizer\n",
    "\n",
    "from sgd import SGD\n",
    "from dog import DoG, LDoG\n",
    "from dadapt import DAdaptSGD, DAdaptDual\n",
    "from averager import PolynomialDecayAverager\n",
    "\n",
    "from abc import ABC, abstractmethod\n",
    "from tqdm.notebook import tqdm\n",
    "import time"
   ]
  },
  {
   "cell_type": "code",
   "execution_count": 2,
   "metadata": {},
   "outputs": [],
   "source": [
    "def add_gaussian_noise(tensor: torch.Tensor, mean: float = 0, std: float = 1):\n",
    "    return tensor + (torch.randn_like(tensor) + mean) * std"
   ]
  },
  {
   "cell_type": "code",
   "execution_count": 64,
   "metadata": {},
   "outputs": [],
   "source": [
    "class TorchModel:\n",
    "    def __init__(self, n_features: int, init_point: torch.Tensor = None):\n",
    "        self.N = n_features\n",
    "        self.optimum = float('inf')\n",
    "        self.x = None\n",
    "        self.optimizer = None\n",
    "        self.scheduler = None\n",
    "        self.optimal_x = None\n",
    "\n",
    "    def set_optimizer(self, optimizer: Optimizer):\n",
    "        self.optimizer = optimizer\n",
    "\n",
    "    def set_scheduler(self, scheduler: PolynomialDecayAverager):\n",
    "        self.scheduler = scheduler\n",
    "\n",
    "    @abstractmethod\n",
    "    def loss(self, P: torch.Tensor, q: torch.Tensor):\n",
    "        raise NotImplementedError(\"must override loss\")\n",
    "\n",
    "    def optimize(self, P: torch.Tensor, q: torch.Tensor, optimal_point,\n",
    "                 max_iter: int = 10000, log_per: int = 1000, is_noisy: bool = True):\n",
    "        self.P = P\n",
    "        self.q = q\n",
    "        point_distance_list = []\n",
    "        value_distance_list = []\n",
    "        optimal_value = self.compute_value(optimal_point)\n",
    "\n",
    "        for _ in tqdm(range(max_iter)):\n",
    "            self.optimizer.zero_grad()\n",
    "            loss = self.loss(P, q)\n",
    "            loss.backward()\n",
    "            if is_noisy:\n",
    "                self.x.grad += add_gaussian_noise(self.x.grad, std=0.01)\n",
    "            self.optimizer.step()\n",
    "            if self.scheduler is not None:\n",
    "                self.scheduler.step()\n",
    "\n",
    "            current_value = self.compute_value(self.x.detach().numpy())\n",
    "            point_distance = np.linalg.norm(self.x.detach().numpy() - optimal_point)\n",
    "            value_distance = current_value - optimal_value\n",
    "            point_distance_list.append(point_distance)\n",
    "            value_distance_list.append(value_distance)\n",
    "            if _ % log_per == 0:\n",
    "                tqdm.write(f\"Iter: {_}, \\tPoint Distance (d_i) from Optimal: {'%.6f' % point_distance}, \\tValue Distance from Optimal: \\t{'%.6f' % value_distance}\", end='\\r')\n",
    "\n",
    "            if current_value < self.optimum:\n",
    "                self.optimal_x = self.x\n",
    "                self.optimum = current_value\n",
    "\n",
    "        return point_distance_list, value_distance_list\n",
    "\n",
    "    @abstractmethod\n",
    "    def optimal_value(self):\n",
    "        raise NotImplementedError(\"must override optimal_value\")\n",
    "\n",
    "    @abstractmethod\n",
    "    def compute_value(self):\n",
    "        raise NotImplementedError(\"must override compute_value\")\n",
    "\n",
    "    def params(self):\n",
    "        return [self.x]"
   ]
  },
  {
   "cell_type": "code",
   "execution_count": 78,
   "metadata": {},
   "outputs": [],
   "source": [
    "class TorchQuadModel(TorchModel):\n",
    "    def __init__(self, n_features: int, init_point: torch.Tensor = None, **kwargs):\n",
    "        super().__init__(n_features, init_point, **kwargs)\n",
    "        if init_point is None:\n",
    "            self.x = torch.randn(self.N, requires_grad=True)\n",
    "        else:\n",
    "            self.x = init_point\n",
    "            self.x.requires_grad = True\n",
    "\n",
    "    def loss(self, P: torch.Tensor, q: torch.Tensor):\n",
    "        x1 = torch.matmul(self.x, P) # x1 = x^T P\n",
    "        z = torch.matmul(x1, self.x) # z = x1 x = x^T P x\n",
    "\n",
    "        return z - torch.matmul(q, self.x)\n",
    "\n",
    "    def optimal_value(self):\n",
    "        return self.optimum\n",
    "\n",
    "    def compute_value(self, point: np.ndarray):\n",
    "        P = self.P.detach().numpy()\n",
    "        q = self.q.detach().numpy()\n",
    "        return point.T @ P @ point - q @ point"
   ]
  },
  {
   "cell_type": "code",
   "execution_count": 31,
   "metadata": {},
   "outputs": [],
   "source": [
    "N = 10 # Matrix Size\n",
    "A = np.random.rand(N, N)\n",
    "P = torch.from_numpy((A.T @ A).astype('float32'))\n",
    "q = torch.from_numpy(np.random.rand(N).astype(dtype='float32'))"
   ]
  },
  {
   "cell_type": "code",
   "execution_count": 40,
   "metadata": {},
   "outputs": [
    {
     "data": {
      "text/plain": [
       "-2.7900886386387973"
      ]
     },
     "execution_count": 40,
     "metadata": {},
     "output_type": "execute_result"
    }
   ],
   "source": [
    "from solver import QuadraticSolver\n",
    "\n",
    "qs = QuadraticSolver(N, P.detach().numpy(), q.detach().numpy())\n",
    "qs.optimal_point()\n",
    "qs.optimal_value()"
   ]
  },
  {
   "cell_type": "code",
   "execution_count": 79,
   "metadata": {},
   "outputs": [],
   "source": [
    "def quadratic_model_runner(optimizer: Optimizer, model: TorchModel,\n",
    "                           P: torch.Tensor,\n",
    "                           q: torch.Tensor,\n",
    "                           optimal_point: float,\n",
    "                           max_iter: int = 10000,\n",
    "                           log_per_iteration: int = 1000,\n",
    "                           is_noisy: bool = True):\n",
    "    model_name = optimizer.__class__.__name__\n",
    "    print(f\"{model_name} Method\")\n",
    "    model.set_optimizer(optimizer)\n",
    "    point_distance_list, value_distance_list = model.optimize(P, q, optimal_point, max_iter, log_per_iteration, is_noisy)\n",
    "    print()\n",
    "    print()\n",
    "    time.sleep(1)\n",
    "\n",
    "    plt.plot(value_distance_list, label=model_name)\n",
    "    # plt.title(model_name)\n",
    "    # plt.show()"
   ]
  },
  {
   "cell_type": "code",
   "execution_count": 81,
   "metadata": {},
   "outputs": [],
   "source": [
    "init = torch.randn(N, requires_grad=True)\n",
    "\n",
    "# SGD Method\n",
    "init = init.clone().detach()\n",
    "sgd_model = TorchQuadModel(N, init)\n",
    "sgd_optimizer = SGD(sgd_model.params(), lr = 0.0001)\n",
    "\n",
    "# DoG Method\n",
    "init = init.clone().detach()\n",
    "dog_model = TorchQuadModel(N, init)\n",
    "dog_optimizer = DoG(dog_model.params())\n",
    "\n",
    "# D-Adaptation (SGD) Method\n",
    "init = init.clone().detach()\n",
    "dadapt_sgd_model = TorchQuadModel(N, init)\n",
    "dadapt_sgd_optimizer = DAdaptSGD(dadapt_sgd_model.params(), lr = 0.01)\n",
    "\n",
    "# D-Adaptation (Dual Averaging) Method\n",
    "init = init.clone().detach()\n",
    "dadapt_dual_model = TorchQuadModel(N, init)\n",
    "dadapt_dual_optimizer = DAdaptDual(dadapt_dual_model.params())"
   ]
  },
  {
   "cell_type": "code",
   "execution_count": 83,
   "metadata": {},
   "outputs": [
    {
     "name": "stdout",
     "output_type": "stream",
     "text": [
      "SGD Method\n"
     ]
    },
    {
     "data": {
      "application/vnd.jupyter.widget-view+json": {
       "model_id": "39619fa8a69341c99ed6136353e5c1db",
       "version_major": 2,
       "version_minor": 0
      },
      "text/plain": [
       "  0%|          | 0/10001 [00:00<?, ?it/s]"
      ]
     },
     "metadata": {},
     "output_type": "display_data"
    },
    {
     "name": "stdout",
     "output_type": "stream",
     "text": [
      "Iter: 10000, \tPoint Distance (d_i) from Optimal: 29.392458, \tValue Distance from Optimal: \t2.329063\n",
      "\n",
      "DoG Method\n"
     ]
    },
    {
     "data": {
      "application/vnd.jupyter.widget-view+json": {
       "model_id": "90a0cfc6ae794379963e7282860d97a0",
       "version_major": 2,
       "version_minor": 0
      },
      "text/plain": [
       "  0%|          | 0/10001 [00:00<?, ?it/s]"
      ]
     },
     "metadata": {},
     "output_type": "display_data"
    },
    {
     "name": "stdout",
     "output_type": "stream",
     "text": [
      "Iter: 10000, \tPoint Distance (d_i) from Optimal: 14.466375, \tValue Distance from Optimal: \t0.416562\n",
      "\n",
      "DAdaptSGD Method\n"
     ]
    },
    {
     "data": {
      "application/vnd.jupyter.widget-view+json": {
       "model_id": "80458c8b9a6048d58479d77ab7d471a5",
       "version_major": 2,
       "version_minor": 0
      },
      "text/plain": [
       "  0%|          | 0/10001 [00:00<?, ?it/s]"
      ]
     },
     "metadata": {},
     "output_type": "display_data"
    },
    {
     "name": "stdout",
     "output_type": "stream",
     "text": [
      "Iter: 10000, \tPoint Distance (d_i) from Optimal: 29.261732, \tValue Distance from Optimal: \t2.127581\n",
      "\n",
      "DAdaptDual Method\n"
     ]
    },
    {
     "data": {
      "application/vnd.jupyter.widget-view+json": {
       "model_id": "67fb3c85693642eb83b4a3c24334d811",
       "version_major": 2,
       "version_minor": 0
      },
      "text/plain": [
       "  0%|          | 0/10001 [00:00<?, ?it/s]"
      ]
     },
     "metadata": {},
     "output_type": "display_data"
    },
    {
     "name": "stdout",
     "output_type": "stream",
     "text": [
      "Iter: 10000, \tPoint Distance (d_i) from Optimal: 27.762951, \tValue Distance from Optimal: \t1.550976\n",
      "\n"
     ]
    },
    {
     "data": {
      "image/png": "[encoded data removed]",
      "text/plain": [
       "<Figure size 640x480 with 1 Axes>"
      ]
     },
     "metadata": {},
     "output_type": "display_data"
    }
   ],
   "source": [
    "iterations = 10001\n",
    "\n",
    "optimizers = [[sgd_optimizer, sgd_model],\n",
    "              [dog_optimizer, dog_model],\n",
    "              [dadapt_sgd_optimizer, dadapt_sgd_model],\n",
    "              [dadapt_dual_optimizer, dadapt_dual_model]]\n",
    "for (optimizer, model) in optimizers:\n",
    "    quadratic_model_runner(optimizer, model, P, q, qs.optimal_point(), max_iter=iterations, log_per_iteration=1000)\n",
    "\n",
    "plt.legend()\n",
    "plt.show()"
   ]
  },
  {
   "cell_type": "code",
   "execution_count": 84,
   "metadata": {},
   "outputs": [
    {
     "name": "stdout",
     "output_type": "stream",
     "text": [
      "Actual optimal point: \t-2.7900886386387973\n",
      "DoG optimal point: \t-2.3735265731811523\n",
      "SGD optimal point: \t-0.46102529764175415\n",
      "D-Adapt (SGD) optimal point: \t-0.6625076532363892\n",
      "D-Adapt (DA) optimal point: \t-1.2391130924224854\n"
     ]
    }
   ],
   "source": [
    "print(f\"Actual optimal point: \\t{qs.optimal_value()}\")\n",
    "print(f\"DoG optimal point: \\t{dog_model.optimal_value()}\")\n",
    "print(f\"SGD optimal point: \\t{sgd_model.optimal_value()}\")\n",
    "print(f\"D-Adapt (SGD) optimal point: \\t{dadapt_sgd_model.optimal_value()}\")\n",
    "print(f\"D-Adapt (DA) optimal point: \\t{dadapt_dual_model.optimal_value()}\")"
   ]
  },
  {
   "cell_type": "code",
   "execution_count": 89,
   "metadata": {},
   "outputs": [],
   "source": [
    "init = torch.randn(N, requires_grad=True)\n",
    "\n",
    "# SGD Method\n",
    "init = init.clone().detach()\n",
    "sgd_model = TorchQuadModel(N, init)\n",
    "sgd_optimizer = SGD(sgd_model.params(), lr = 0.0001)\n",
    "\n",
    "# DoG Method\n",
    "init = init.clone().detach()\n",
    "dog_model = TorchQuadModel(N, init)\n",
    "dog_optimizer = DoG(dog_model.params())\n",
    "\n",
    "# D-Adaptation (SGD) Method\n",
    "init = init.clone().detach()\n",
    "dadapt_sgd_model = TorchQuadModel(N, init)\n",
    "dadapt_sgd_optimizer = DAdaptSGD(dadapt_sgd_model.params(), lr = 0.01)\n",
    "\n",
    "# D-Adaptation (Dual Averaging) Method\n",
    "init = init.clone().detach()\n",
    "dadapt_dual_model = TorchQuadModel(N, init)\n",
    "dadapt_dual_optimizer = DAdaptDual(dadapt_dual_model.params())"
   ]
  },
  {
   "cell_type": "code",
   "execution_count": 90,
   "metadata": {},
   "outputs": [
    {
     "name": "stdout",
     "output_type": "stream",
     "text": [
      "SGD Method\n"
     ]
    },
    {
     "data": {
      "application/vnd.jupyter.widget-view+json": {
       "model_id": "8c735bcb73f2459ba018e19d5f1fcc18",
       "version_major": 2,
       "version_minor": 0
      },
      "text/plain": [
       "  0%|          | 0/10001 [00:00<?, ?it/s]"
      ]
     },
     "metadata": {},
     "output_type": "display_data"
    },
    {
     "name": "stdout",
     "output_type": "stream",
     "text": [
      "Iter: 10000, \tPoint Distance (d_i) from Optimal: 30.001448, \tValue Distance from Optimal: \t2.820712\n",
      "\n",
      "DoG Method\n"
     ]
    },
    {
     "data": {
      "application/vnd.jupyter.widget-view+json": {
       "model_id": "9445a43219e9451f8f30ff63da36090d",
       "version_major": 2,
       "version_minor": 0
      },
      "text/plain": [
       "  0%|          | 0/10001 [00:00<?, ?it/s]"
      ]
     },
     "metadata": {},
     "output_type": "display_data"
    },
    {
     "name": "stdout",
     "output_type": "stream",
     "text": [
      "Iter: 10000, \tPoint Distance (d_i) from Optimal: 20.159805, \tValue Distance from Optimal: \t0.808953\n",
      "\n",
      "DAdaptSGD Method\n"
     ]
    },
    {
     "data": {
      "application/vnd.jupyter.widget-view+json": {
       "model_id": "4f30297877354aada434bce4bfbacf4f",
       "version_major": 2,
       "version_minor": 0
      },
      "text/plain": [
       "  0%|          | 0/10001 [00:00<?, ?it/s]"
      ]
     },
     "metadata": {},
     "output_type": "display_data"
    },
    {
     "name": "stdout",
     "output_type": "stream",
     "text": [
      "Iter: 10000, \tPoint Distance (d_i) from Optimal: 29.691228, \tValue Distance from Optimal: \t2.211589\n",
      "\n",
      "DAdaptDual Method\n"
     ]
    },
    {
     "data": {
      "application/vnd.jupyter.widget-view+json": {
       "model_id": "16e4d9c6d104431bbffe378a7e556939",
       "version_major": 2,
       "version_minor": 0
      },
      "text/plain": [
       "  0%|          | 0/10001 [00:00<?, ?it/s]"
      ]
     },
     "metadata": {},
     "output_type": "display_data"
    },
    {
     "name": "stdout",
     "output_type": "stream",
     "text": [
      "Iter: 10000, \tPoint Distance (d_i) from Optimal: 28.539489, \tValue Distance from Optimal: \t1.661027\n",
      "\n"
     ]
    },
    {
     "data": {
      "image/png": "[encoded data removed]",
      "text/plain": [
       "<Figure size 640x480 with 1 Axes>"
      ]
     },
     "metadata": {},
     "output_type": "display_data"
    }
   ],
   "source": [
    "iterations = 10001\n",
    "\n",
    "optimizers = [[sgd_optimizer, sgd_model],\n",
    "              [dog_optimizer, dog_model],\n",
    "              [dadapt_sgd_optimizer, dadapt_sgd_model],\n",
    "              [dadapt_dual_optimizer, dadapt_dual_model]]\n",
    "for (optimizer, model) in optimizers:\n",
    "    quadratic_model_runner(optimizer, model, P, q, qs.optimal_point(), max_iter=iterations, log_per_iteration=1000, is_noisy=False)\n",
    "\n",
    "plt.legend()\n",
    "plt.show()"
   ]
  },
  {
   "cell_type": "code",
   "execution_count": 71,
   "metadata": {},
   "outputs": [
    {
     "name": "stdout",
     "output_type": "stream",
     "text": [
      "Actual optimal point: \t-2.7900886386387973\n",
      "DoG optimal point: \t-2.718608856201172\n",
      "SGD optimal point: \t-0.19494397938251495\n",
      "D-Adapt (SGD) optimal point: \t-0.8219714164733887\n",
      "D-Adapt (DA) optimal point: \t-1.350714921951294\n"
     ]
    }
   ],
   "source": [
    "print(f\"Actual optimal point: \\t{qs.optimal_value()}\")\n",
    "print(f\"DoG optimal point: \\t{dog_model.optimal_value()}\")\n",
    "print(f\"SGD optimal point: \\t{sgd_model.optimal_value()}\")\n",
    "print(f\"D-Adapt (SGD) optimal point: \\t{dadapt_sgd_model.optimal_value()}\")\n",
    "print(f\"D-Adapt (DA) optimal point: \\t{dadapt_dual_model.optimal_value()}\")"
   ]
  }
 ],
 "metadata": {
  "kernelspec": {
   "display_name": "Python 3",
   "language": "python",
   "name": "python3"
  },
  "language_info": {
   "codemirror_mode": {
    "name": "ipython",
    "version": 3
   },
   "file_extension": ".py",
   "mimetype": "text/x-python",
   "name": "python",
   "nbconvert_exporter": "python",
   "pygments_lexer": "ipython3",
   "version": "3.11.6"
  }
 },
 "nbformat": 4,
 "nbformat_minor": 2
}
